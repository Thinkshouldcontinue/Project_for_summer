{
 "cells": [
  {
   "cell_type": "markdown",
   "id": "ab9a2e64",
   "metadata": {},
   "source": [
    "# Kernel Density Estimation(Univariate)"
   ]
  },
  {
   "cell_type": "code",
   "execution_count": 55,
   "id": "92b69e43",
   "metadata": {},
   "outputs": [],
   "source": [
    "import numpy as np\n",
    "import matplotlib.pyplot as plt\n",
    "import matplotlib.figure as fig\n",
    "from sklearn.neighbors import KernelDensity\n",
    "from sklearn.model_selection import GridSearchCV\n",
    "import torch\n",
    "from torch import nn, optim, distributions\n",
    "import seaborn as sns\n",
    "import KDEpy as kdp"
   ]
  },
  {
   "cell_type": "markdown",
   "id": "a0f7a453",
   "metadata": {},
   "source": [
    "Kernel Density Estimation is a density estimation method in statistics: it is a non parametric method for using a dataset to estimating probabilities for new points<br>\n",
    "\n",
    "Kernel(K(.)): A kernel is a mathematical function that returns a probability for a given value of a random variable. The kernel effectively smooths or interpolates the probabilities across the range of outcomes such that the sum of probabilities equals one <br>\n",
    "\n",
    "Bandwidth/smoothing parameter(h): Parameter that controls the number of samples or window of samples used to estimate the probability for a new point.<br>\n",
    "\n",
    "\n",
    "$\\hat{p}_n(x) = \\frac{1}{nh} \\sum_{i=1}^{n} K(\\frac{X_i - x}{h})$<br>\n",
    "\n",
    "A kernel function has features:<br>\n",
    "(1): everywhere non-negative: $K(x) \\geq 0$ for every $x$.<br>\n",
    "(2): symmetric: $K(x) = K(-x)$ for every $x$.<br>\n",
    "(3): $lim_{x \\rightarrow -\\infty} K(x) = lim_{x \\rightarrow \\infty} K(x) = 0$ <br>\n",
    "(4): $\\int K(x) dx = 1$<br>\n",
    "\n",
    "Examples:<br>\n",
    "Gaussian: $K(x) = \\frac{1}{\\sqrt{2\\pi}} e^{\\frac{x^2}{2}}$<br>\n",
    "Uniform: $K(x) = \\frac{1}{2} I_{-1 \\leq x \\leq 1}$ <br>\n",
    "Epanechnikov: $K(x) = \\frac{3}{4} max\\{1 - x^2, 0 \\}$ <br>\n",
    "\n",
    "When $h$ is too small, it can cause the undersmoothing. When $h$ is too large, it can cause oversmoothing.<br>\n"
   ]
  },
  {
   "cell_type": "markdown",
   "id": "8aacc8cf",
   "metadata": {},
   "source": [
    "Bias of KDE: $E(\\hat{p}_n(x_0) - p(x_0)) = \\frac{1}{2}h^2 p^{''}(x_0)\\mu_K + o(h^2).$. <br>\n",
    "Variance of KDE: $Var(\\hat{p}_n(x_0)) = \\frac{1}{nh}p(x_0)\\int K(x)^2 dx + o(\\frac{1}{nh})$ <br>\n",
    "Asymptotic Mean Square Error: $O(h^4) + O(\\frac{1}{nh}).$<br>\n",
    "With best $h$, the AMSE is $O(n^{-\\frac{4}{5}})$(1 dimensional) $O(n^{-\\frac{1}{4 + d}})$ for $d$ dimensions."
   ]
  },
  {
   "cell_type": "markdown",
   "id": "0fbfe39c",
   "metadata": {},
   "source": [
    "Kernel function $K$, bandwidth $h$, sample size $N$, and the norm $\\| \\|$ inside kernel function decide the effectiveness of KDE.$"
   ]
  },
  {
   "cell_type": "markdown",
   "id": "0c49ed24",
   "metadata": {},
   "source": [
    "Silverman's rule of thumb: data close to normal.<br>\n",
    "Scott’s rule of thumb.<br>\n",
    "Biased Cross Validation.<br>\n",
    "Unbiased Cross Validation.<br>\n",
    "Sheather & Jones method.<br>"
   ]
  },
  {
   "cell_type": "markdown",
   "id": "ad8e2313",
   "metadata": {},
   "source": [
    "# 1 Test"
   ]
  },
  {
   "cell_type": "markdown",
   "id": "7595a595",
   "metadata": {},
   "source": [
    "## 1.1 Generate Sample"
   ]
  },
  {
   "cell_type": "code",
   "execution_count": 29,
   "id": "3a3eaf44",
   "metadata": {},
   "outputs": [],
   "source": [
    "Gamma_train = distributions.Gamma(4, 5, validate_args=None)\n",
    "Gamma_train_sample = Gamma_train.sample(torch.Size([500]))\n",
    "Gamma_test_sample = Gamma_train.sample(torch.Size([100]))\n",
    "train_sample = (Gamma_train_sample.numpy()).reshape((500, 1))\n",
    "test_sample = (Gamma_test_sample.numpy()).reshape((100,1))"
   ]
  },
  {
   "cell_type": "code",
   "execution_count": 30,
   "id": "cd139a8b",
   "metadata": {},
   "outputs": [
    {
     "data": {
      "text/plain": [
       "<seaborn.axisgrid.FacetGrid at 0x13911bbb0>"
      ]
     },
     "execution_count": 30,
     "metadata": {},
     "output_type": "execute_result"
    },
    {
     "data": {
      "image/png": "[encoded data removed]",
      "text/plain": [
       "<Figure size 402.375x360 with 1 Axes>"
      ]
     },
     "metadata": {
      "needs_background": "light"
     },
     "output_type": "display_data"
    }
   ],
   "source": [
    "sns.displot(train_sample)"
   ]
  },
  {
   "cell_type": "markdown",
   "id": "f6b19b46",
   "metadata": {},
   "source": [
    "# 1.2 KDE example (Bandwidth = 0.01)"
   ]
  },
  {
   "cell_type": "code",
   "execution_count": 67,
   "id": "103081fc",
   "metadata": {},
   "outputs": [
    {
     "data": {
      "image/png": "[encoded data removed]",
      "text/plain": [
       "<Figure size 432x288 with 3 Axes>"
      ]
     },
     "metadata": {
      "needs_background": "light"
     },
     "output_type": "display_data"
    }
   ],
   "source": [
    "fig, axs = plt.subplots(1, 3)\n",
    "\n",
    "for i, kernel in enumerate(['box', 'biweight', 'gaussian']):\n",
    "    x, y = kdp.FFTKDE(kernel=kernel, bw='silverman').fit(train_sample).evaluate()\n",
    "    axs[i].plot(x, y)\n",
    "    axs[i].set_title(f'Kernel: \"{kernel}\"')\n",
    "    \n",
    "plt.subplots_adjust(left=0.1,\n",
    "                    bottom=0.2, \n",
    "                    right=0.9, \n",
    "                    top=0.5, \n",
    "                    wspace=0.4, \n",
    "                    hspace=0.4)"
   ]
  },
  {
   "cell_type": "code",
   "execution_count": null,
   "id": "6283c6f6",
   "metadata": {},
   "outputs": [],
   "source": []
  }
 ],
 "metadata": {
  "kernelspec": {
   "display_name": "Python 3 (ipykernel)",
   "language": "python",
   "name": "python3"
  },
  "language_info": {
   "codemirror_mode": {
    "name": "ipython",
    "version": 3
   },
   "file_extension": ".py",
   "mimetype": "text/x-python",
   "name": "python",
   "nbconvert_exporter": "python",
   "pygments_lexer": "ipython3",
   "version": "3.9.7"
  }
 },
 "nbformat": 4,
 "nbformat_minor": 5
}
